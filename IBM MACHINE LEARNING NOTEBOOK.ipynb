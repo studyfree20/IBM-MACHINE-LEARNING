{
    "cells": [
        {
            "cell_type": "code",
            "execution_count": null,
            "metadata": {},
            "outputs": [],
            "source": "print('MY MACHINE LEARNING NOTEBOOK PIECE')"
        },
        {
            "cell_type": "code",
            "execution_count": 3,
            "metadata": {},
            "outputs": [],
            "source": "import itertools\nimport numpy as np\nimport matplotlib.pyplot as plt\nfrom matplotlib.ticker import NullFormatter\nimport pandas as pd\nimport matplotlib.ticker as ticker\nfrom sklearn import preprocessing\n%matplotlib inline\nfrom sklearn.metrics import f1_score\nfrom sklearn.metrics import cohen_kappa_score, jaccard_score"
        },
        {
            "cell_type": "code",
            "execution_count": 62,
            "metadata": {},
            "outputs": [
                {
                    "name": "stdout",
                    "output_type": "stream",
                    "text": "--2020-10-31 16:50:31--  https://raw.githubusercontent.com/studyfree20/data/main/loan.csv\nResolving raw.githubusercontent.com (raw.githubusercontent.com)... 151.101.16.133\nConnecting to raw.githubusercontent.com (raw.githubusercontent.com)|151.101.16.133|:443... connected.\nHTTP request sent, awaiting response... 200 OK\nLength: 22754 (22K) [text/plain]\nSaving to: \u2018loan.csv\u2019\n\nloan.csv            100%[===================>]  22.22K  --.-KB/s    in 0.002s  \n\n2020-10-31 16:50:32 (13.4 MB/s) - \u2018loan.csv\u2019 saved [22754/22754]\n\n"
                }
            ],
            "source": "!wget -O loan.csv https://raw.githubusercontent.com/studyfree20/data/main/loan.csv"
        },
        {
            "cell_type": "code",
            "execution_count": 5,
            "metadata": {},
            "outputs": [
                {
                    "data": {
                        "text/html": "<div>\n<style scoped>\n    .dataframe tbody tr th:only-of-type {\n        vertical-align: middle;\n    }\n\n    .dataframe tbody tr th {\n        vertical-align: top;\n    }\n\n    .dataframe thead th {\n        text-align: right;\n    }\n</style>\n<table border=\"1\" class=\"dataframe\">\n  <thead>\n    <tr style=\"text-align: right;\">\n      <th></th>\n      <th>user_id</th>\n      <th>un_named</th>\n      <th>status</th>\n      <th>principal_amount</th>\n      <th>terms</th>\n      <th>effective_date</th>\n      <th>due_date</th>\n      <th>age</th>\n      <th>education</th>\n      <th>Gender</th>\n    </tr>\n  </thead>\n  <tbody>\n    <tr>\n      <th>0</th>\n      <td>0</td>\n      <td>0</td>\n      <td>PAID</td>\n      <td>1500</td>\n      <td>30</td>\n      <td>09/08/2019</td>\n      <td>10/07/2019</td>\n      <td>47</td>\n      <td>Secondary or Below</td>\n      <td>male</td>\n    </tr>\n    <tr>\n      <th>1</th>\n      <td>2</td>\n      <td>2</td>\n      <td>PAID</td>\n      <td>1500</td>\n      <td>30</td>\n      <td>09/08/2019</td>\n      <td>10/07/2019</td>\n      <td>33</td>\n      <td>Bachelors</td>\n      <td>female</td>\n    </tr>\n    <tr>\n      <th>2</th>\n      <td>3</td>\n      <td>3</td>\n      <td>PAID</td>\n      <td>1500</td>\n      <td>15</td>\n      <td>09/08/2019</td>\n      <td>9/22/2019</td>\n      <td>27</td>\n      <td>college</td>\n      <td>male</td>\n    </tr>\n    <tr>\n      <th>3</th>\n      <td>4</td>\n      <td>4</td>\n      <td>PAID</td>\n      <td>1500</td>\n      <td>30</td>\n      <td>09/09/2019</td>\n      <td>10/08/2019</td>\n      <td>28</td>\n      <td>college</td>\n      <td>female</td>\n    </tr>\n    <tr>\n      <th>4</th>\n      <td>6</td>\n      <td>6</td>\n      <td>PAID</td>\n      <td>1500</td>\n      <td>30</td>\n      <td>09/09/2019</td>\n      <td>10/08/2019</td>\n      <td>29</td>\n      <td>college</td>\n      <td>male</td>\n    </tr>\n  </tbody>\n</table>\n</div>",
                        "text/plain": "   user_id  un_named status  principal_amount  terms effective_date  \\\n0        0         0   PAID              1500     30     09/08/2019   \n1        2         2   PAID              1500     30     09/08/2019   \n2        3         3   PAID              1500     15     09/08/2019   \n3        4         4   PAID              1500     30     09/09/2019   \n4        6         6   PAID              1500     30     09/09/2019   \n\n     due_date  age           education  Gender  \n0  10/07/2019   47  Secondary or Below    male  \n1  10/07/2019   33           Bachelors  female  \n2   9/22/2019   27             college    male  \n3  10/08/2019   28             college  female  \n4  10/08/2019   29             college    male  "
                    },
                    "execution_count": 5,
                    "metadata": {},
                    "output_type": "execute_result"
                }
            ],
            "source": "df = pd.read_csv('loan.csv')\ndf.head()"
        },
        {
            "cell_type": "code",
            "execution_count": 6,
            "metadata": {},
            "outputs": [
                {
                    "data": {
                        "text/plain": "(346, 10)"
                    },
                    "execution_count": 6,
                    "metadata": {},
                    "output_type": "execute_result"
                }
            ],
            "source": "df.shape"
        },
        {
            "cell_type": "code",
            "execution_count": 7,
            "metadata": {},
            "outputs": [
                {
                    "data": {
                        "text/html": "<div>\n<style scoped>\n    .dataframe tbody tr th:only-of-type {\n        vertical-align: middle;\n    }\n\n    .dataframe tbody tr th {\n        vertical-align: top;\n    }\n\n    .dataframe thead th {\n        text-align: right;\n    }\n</style>\n<table border=\"1\" class=\"dataframe\">\n  <thead>\n    <tr style=\"text-align: right;\">\n      <th></th>\n      <th>user_id</th>\n      <th>un_named</th>\n      <th>status</th>\n      <th>principal_amount</th>\n      <th>terms</th>\n      <th>effective_date</th>\n      <th>due_date</th>\n      <th>age</th>\n      <th>education</th>\n      <th>Gender</th>\n    </tr>\n  </thead>\n  <tbody>\n    <tr>\n      <th>0</th>\n      <td>0</td>\n      <td>0</td>\n      <td>PAID</td>\n      <td>1500</td>\n      <td>30</td>\n      <td>2019-09-08</td>\n      <td>2019-10-07</td>\n      <td>47</td>\n      <td>Secondary or Below</td>\n      <td>male</td>\n    </tr>\n    <tr>\n      <th>1</th>\n      <td>2</td>\n      <td>2</td>\n      <td>PAID</td>\n      <td>1500</td>\n      <td>30</td>\n      <td>2019-09-08</td>\n      <td>2019-10-07</td>\n      <td>33</td>\n      <td>Bachelors</td>\n      <td>female</td>\n    </tr>\n    <tr>\n      <th>2</th>\n      <td>3</td>\n      <td>3</td>\n      <td>PAID</td>\n      <td>1500</td>\n      <td>15</td>\n      <td>2019-09-08</td>\n      <td>2019-09-22</td>\n      <td>27</td>\n      <td>college</td>\n      <td>male</td>\n    </tr>\n    <tr>\n      <th>3</th>\n      <td>4</td>\n      <td>4</td>\n      <td>PAID</td>\n      <td>1500</td>\n      <td>30</td>\n      <td>2019-09-09</td>\n      <td>2019-10-08</td>\n      <td>28</td>\n      <td>college</td>\n      <td>female</td>\n    </tr>\n    <tr>\n      <th>4</th>\n      <td>6</td>\n      <td>6</td>\n      <td>PAID</td>\n      <td>1500</td>\n      <td>30</td>\n      <td>2019-09-09</td>\n      <td>2019-10-08</td>\n      <td>29</td>\n      <td>college</td>\n      <td>male</td>\n    </tr>\n  </tbody>\n</table>\n</div>",
                        "text/plain": "   user_id  un_named status  principal_amount  terms effective_date  \\\n0        0         0   PAID              1500     30     2019-09-08   \n1        2         2   PAID              1500     30     2019-09-08   \n2        3         3   PAID              1500     15     2019-09-08   \n3        4         4   PAID              1500     30     2019-09-09   \n4        6         6   PAID              1500     30     2019-09-09   \n\n    due_date  age           education  Gender  \n0 2019-10-07   47  Secondary or Below    male  \n1 2019-10-07   33           Bachelors  female  \n2 2019-09-22   27             college    male  \n3 2019-10-08   28             college  female  \n4 2019-10-08   29             college    male  "
                    },
                    "execution_count": 7,
                    "metadata": {},
                    "output_type": "execute_result"
                }
            ],
            "source": "df['due_date'] = pd.to_datetime(df['due_date'])\ndf['effective_date'] = pd.to_datetime(df['effective_date'])\ndf.head()"
        },
        {
            "cell_type": "code",
            "execution_count": 9,
            "metadata": {},
            "outputs": [
                {
                    "data": {
                        "text/plain": "PAID          260\nCOLLECTION     86\nName: status, dtype: int64"
                    },
                    "execution_count": 9,
                    "metadata": {},
                    "output_type": "execute_result"
                }
            ],
            "source": "df['status'].value_counts()"
        },
        {
            "cell_type": "code",
            "execution_count": 14,
            "metadata": {},
            "outputs": [
                {
                    "data": {
                        "text/plain": "user_id                      int64\nun_named                     int64\nstatus                      object\nprincipal_amount             int64\nterms                        int64\neffective_date      datetime64[ns]\ndue_date            datetime64[ns]\nage                          int64\neducation                   object\nGender                      object\ndtype: object"
                    },
                    "execution_count": 14,
                    "metadata": {},
                    "output_type": "execute_result"
                }
            ],
            "source": "df.dtypes"
        },
        {
            "cell_type": "code",
            "execution_count": 13,
            "metadata": {},
            "outputs": [
                {
                    "data": {
                        "text/html": "<div>\n<style scoped>\n    .dataframe tbody tr th:only-of-type {\n        vertical-align: middle;\n    }\n\n    .dataframe tbody tr th {\n        vertical-align: top;\n    }\n\n    .dataframe thead th {\n        text-align: right;\n    }\n</style>\n<table border=\"1\" class=\"dataframe\">\n  <thead>\n    <tr style=\"text-align: right;\">\n      <th></th>\n      <th>effective_date</th>\n      <th>due_date</th>\n    </tr>\n  </thead>\n  <tbody>\n    <tr>\n      <th>0</th>\n      <td>2019-09-08</td>\n      <td>2019-10-07</td>\n    </tr>\n    <tr>\n      <th>1</th>\n      <td>2019-09-08</td>\n      <td>2019-10-07</td>\n    </tr>\n    <tr>\n      <th>2</th>\n      <td>2019-09-08</td>\n      <td>2019-09-22</td>\n    </tr>\n  </tbody>\n</table>\n</div>",
                        "text/plain": "  effective_date   due_date\n0     2019-09-08 2019-10-07\n1     2019-09-08 2019-10-07\n2     2019-09-08 2019-09-22"
                    },
                    "execution_count": 13,
                    "metadata": {},
                    "output_type": "execute_result"
                }
            ],
            "source": "df['due_date'] = pd.to_datetime(df['due_date'])\ndf['effective_date'] = pd.to_datetime(df['effective_date'])\ndf[['effective_date', 'due_date']].head(3)"
        },
        {
            "cell_type": "code",
            "execution_count": 15,
            "metadata": {},
            "outputs": [
                {
                    "data": {
                        "text/plain": "1500    0.745665\n950     0.234104\n300     0.008671\n500     0.005780\n900     0.005780\nName: principal_amount, dtype: float64"
                    },
                    "execution_count": 15,
                    "metadata": {},
                    "output_type": "execute_result"
                }
            ],
            "source": "df['principal_amount'].value_counts(normalize = True)"
        },
        {
            "cell_type": "code",
            "execution_count": 16,
            "metadata": {},
            "outputs": [
                {
                    "data": {
                        "text/plain": "PAID          0.751445\nCOLLECTION    0.248555\nName: status, dtype: float64"
                    },
                    "execution_count": 16,
                    "metadata": {},
                    "output_type": "execute_result"
                }
            ],
            "source": "df['status'].value_counts(normalize=True)"
        },
        {
            "cell_type": "code",
            "execution_count": 17,
            "metadata": {},
            "outputs": [
                {
                    "data": {
                        "text/plain": "Secondary or Below    151\ncollege               149\nBachelors              44\nMaster or Above         2\nName: education, dtype: int64"
                    },
                    "execution_count": 17,
                    "metadata": {},
                    "output_type": "execute_result"
                }
            ],
            "source": "df['education'].value_counts()"
        },
        {
            "cell_type": "code",
            "execution_count": 18,
            "metadata": {},
            "outputs": [
                {
                    "data": {
                        "text/plain": "male      0.849711\nfemale    0.150289\nName: Gender, dtype: float64"
                    },
                    "execution_count": 18,
                    "metadata": {},
                    "output_type": "execute_result"
                }
            ],
            "source": "df['Gender'].value_counts(normalize=True)"
        },
        {
            "cell_type": "code",
            "execution_count": 19,
            "metadata": {},
            "outputs": [
                {
                    "data": {
                        "text/plain": "Gender  status    \nfemale  PAID          0.865385\n        COLLECTION    0.134615\nmale    PAID          0.731293\n        COLLECTION    0.268707\nName: status, dtype: float64"
                    },
                    "execution_count": 19,
                    "metadata": {},
                    "output_type": "execute_result"
                }
            ],
            "source": "df.groupby(['Gender'])['status'].value_counts(normalize=True)"
        },
        {
            "cell_type": "code",
            "execution_count": 20,
            "metadata": {},
            "outputs": [
                {
                    "data": {
                        "text/plain": "education           status    \nBachelors           PAID          0.750000\n                    COLLECTION    0.250000\nMaster or Above     COLLECTION    0.500000\n                    PAID          0.500000\nSecondary or Below  PAID          0.741722\n                    COLLECTION    0.258278\ncollege             PAID          0.765101\n                    COLLECTION    0.234899\nName: status, dtype: float64"
                    },
                    "execution_count": 20,
                    "metadata": {},
                    "output_type": "execute_result"
                }
            ],
            "source": "df.groupby(['education'])['status'].value_counts(normalize=True)"
        },
        {
            "cell_type": "code",
            "execution_count": 21,
            "metadata": {},
            "outputs": [
                {
                    "data": {
                        "text/plain": "principal_amount  status    \n300               PAID          1.000000\n500               PAID          1.000000\n900               PAID          1.000000\n950               PAID          0.777778\n                  COLLECTION    0.222222\n1500              PAID          0.736434\n                  COLLECTION    0.263566\nName: status, dtype: float64"
                    },
                    "execution_count": 21,
                    "metadata": {},
                    "output_type": "execute_result"
                }
            ],
            "source": "df.groupby(['principal_amount'])['status'].value_counts(normalize=True)"
        },
        {
            "cell_type": "code",
            "execution_count": 22,
            "metadata": {},
            "outputs": [],
            "source": "#!conda install -c anaconda seaborn -y"
        },
        {
            "cell_type": "code",
            "execution_count": 24,
            "metadata": {},
            "outputs": [
                {
                    "data": {
                        "image/png": "[encoded data removed]",
                        "text/plain": "<Figure size 432x216 with 2 Axes>"
                    },
                    "metadata": {
                        "needs_background": "light"
                    },
                    "output_type": "display_data"
                }
            ],
            "source": "import seaborn as sns\n\nbins = np.linspace(df.principal_amount.min(), df.principal_amount.max(), 10)\ng = sns.FacetGrid(df, col=\"Gender\", hue=\"status\", palette=\"Set1\", col_wrap=2)\ng.map(plt.hist, 'principal_amount', bins=bins, ec=\"k\")\n\ng.axes[1].legend()\nplt.show()"
        },
        {
            "cell_type": "code",
            "execution_count": 25,
            "metadata": {},
            "outputs": [
                {
                    "data": {
                        "image/png": "[encoded data removed]",
                        "text/plain": "<Figure size 432x216 with 2 Axes>"
                    },
                    "metadata": {
                        "needs_background": "light"
                    },
                    "output_type": "display_data"
                }
            ],
            "source": "bins = np.linspace(df.age.min(), df.age.max(), 10)\ng = sns.FacetGrid(df, col=\"Gender\", hue=\"status\", palette=\"Set1\", col_wrap=2)\ng.map(plt.hist, 'age', bins=bins, ec=\"k\")\n\ng.axes[1].legend()\nplt.show()"
        },
        {
            "cell_type": "code",
            "execution_count": 26,
            "metadata": {},
            "outputs": [
                {
                    "data": {
                        "text/html": "<div>\n<style scoped>\n    .dataframe tbody tr th:only-of-type {\n        vertical-align: middle;\n    }\n\n    .dataframe tbody tr th {\n        vertical-align: top;\n    }\n\n    .dataframe thead th {\n        text-align: right;\n    }\n</style>\n<table border=\"1\" class=\"dataframe\">\n  <thead>\n    <tr style=\"text-align: right;\">\n      <th></th>\n      <th>user_id</th>\n      <th>un_named</th>\n      <th>status</th>\n      <th>principal_amount</th>\n      <th>terms</th>\n      <th>effective_date</th>\n      <th>due_date</th>\n      <th>age</th>\n      <th>education</th>\n      <th>Gender</th>\n    </tr>\n  </thead>\n  <tbody>\n    <tr>\n      <th>0</th>\n      <td>0</td>\n      <td>0</td>\n      <td>PAID</td>\n      <td>1500</td>\n      <td>30</td>\n      <td>2019-09-08</td>\n      <td>2019-10-07</td>\n      <td>47</td>\n      <td>Secondary or Below</td>\n      <td>0</td>\n    </tr>\n    <tr>\n      <th>1</th>\n      <td>2</td>\n      <td>2</td>\n      <td>PAID</td>\n      <td>1500</td>\n      <td>30</td>\n      <td>2019-09-08</td>\n      <td>2019-10-07</td>\n      <td>33</td>\n      <td>Bachelors</td>\n      <td>1</td>\n    </tr>\n  </tbody>\n</table>\n</div>",
                        "text/plain": "   user_id  un_named status  principal_amount  terms effective_date  \\\n0        0         0   PAID              1500     30     2019-09-08   \n1        2         2   PAID              1500     30     2019-09-08   \n\n    due_date  age           education  Gender  \n0 2019-10-07   47  Secondary or Below       0  \n1 2019-10-07   33           Bachelors       1  "
                    },
                    "execution_count": 26,
                    "metadata": {},
                    "output_type": "execute_result"
                }
            ],
            "source": "df['Gender'].replace(to_replace=['male','female'], value=[0,1],inplace=True)\ndf.head(2)"
        },
        {
            "cell_type": "code",
            "execution_count": 27,
            "metadata": {},
            "outputs": [
                {
                    "data": {
                        "text/html": "<div>\n<style scoped>\n    .dataframe tbody tr th:only-of-type {\n        vertical-align: middle;\n    }\n\n    .dataframe tbody tr th {\n        vertical-align: top;\n    }\n\n    .dataframe thead th {\n        text-align: right;\n    }\n</style>\n<table border=\"1\" class=\"dataframe\">\n  <thead>\n    <tr style=\"text-align: right;\">\n      <th></th>\n      <th>user_id</th>\n      <th>un_named</th>\n      <th>status</th>\n      <th>principal_amount</th>\n      <th>terms</th>\n      <th>effective_date</th>\n      <th>due_date</th>\n      <th>age</th>\n      <th>education</th>\n      <th>Gender</th>\n      <th>dayofweek</th>\n    </tr>\n  </thead>\n  <tbody>\n    <tr>\n      <th>0</th>\n      <td>0</td>\n      <td>0</td>\n      <td>PAID</td>\n      <td>1500</td>\n      <td>30</td>\n      <td>2019-09-08</td>\n      <td>2019-10-07</td>\n      <td>47</td>\n      <td>Secondary or Below</td>\n      <td>0</td>\n      <td>6</td>\n    </tr>\n    <tr>\n      <th>1</th>\n      <td>2</td>\n      <td>2</td>\n      <td>PAID</td>\n      <td>1500</td>\n      <td>30</td>\n      <td>2019-09-08</td>\n      <td>2019-10-07</td>\n      <td>33</td>\n      <td>Bachelors</td>\n      <td>1</td>\n      <td>6</td>\n    </tr>\n    <tr>\n      <th>2</th>\n      <td>3</td>\n      <td>3</td>\n      <td>PAID</td>\n      <td>1500</td>\n      <td>15</td>\n      <td>2019-09-08</td>\n      <td>2019-09-22</td>\n      <td>27</td>\n      <td>college</td>\n      <td>0</td>\n      <td>6</td>\n    </tr>\n  </tbody>\n</table>\n</div>",
                        "text/plain": "   user_id  un_named status  principal_amount  terms effective_date  \\\n0        0         0   PAID              1500     30     2019-09-08   \n1        2         2   PAID              1500     30     2019-09-08   \n2        3         3   PAID              1500     15     2019-09-08   \n\n    due_date  age           education  Gender  dayofweek  \n0 2019-10-07   47  Secondary or Below       0          6  \n1 2019-10-07   33           Bachelors       1          6  \n2 2019-09-22   27             college       0          6  "
                    },
                    "execution_count": 27,
                    "metadata": {},
                    "output_type": "execute_result"
                }
            ],
            "source": "df['dayofweek'] = df['effective_date'].dt.dayofweek # Monday:0, Sunday:6\ndf.head(3)"
        },
        {
            "cell_type": "code",
            "execution_count": 29,
            "metadata": {},
            "outputs": [
                {
                    "data": {
                        "image/png": "[encoded data removed]",
                        "text/plain": "<Figure size 432x216 with 2 Axes>"
                    },
                    "metadata": {
                        "needs_background": "light"
                    },
                    "output_type": "display_data"
                }
            ],
            "source": "bins = np.linspace(df.dayofweek.min(), df.dayofweek.max(), 8)\ng = sns.FacetGrid(df, col=\"Gender\", hue=\"status\", palette=\"Set1\", col_wrap=2)\ng.map(plt.hist, 'dayofweek', bins=bins, ec=\"k\")\ng.axes[-1].legend()\nplt.show()"
        },
        {
            "cell_type": "code",
            "execution_count": 30,
            "metadata": {},
            "outputs": [
                {
                    "data": {
                        "text/html": "<div>\n<style scoped>\n    .dataframe tbody tr th:only-of-type {\n        vertical-align: middle;\n    }\n\n    .dataframe tbody tr th {\n        vertical-align: top;\n    }\n\n    .dataframe thead th {\n        text-align: right;\n    }\n</style>\n<table border=\"1\" class=\"dataframe\">\n  <thead>\n    <tr style=\"text-align: right;\">\n      <th></th>\n      <th>user_id</th>\n      <th>un_named</th>\n      <th>status</th>\n      <th>principal_amount</th>\n      <th>terms</th>\n      <th>effective_date</th>\n      <th>due_date</th>\n      <th>age</th>\n      <th>education</th>\n      <th>Gender</th>\n      <th>dayofweek</th>\n      <th>weekend</th>\n    </tr>\n  </thead>\n  <tbody>\n    <tr>\n      <th>0</th>\n      <td>0</td>\n      <td>0</td>\n      <td>PAID</td>\n      <td>1500</td>\n      <td>30</td>\n      <td>2019-09-08</td>\n      <td>2019-10-07</td>\n      <td>47</td>\n      <td>Secondary or Below</td>\n      <td>0</td>\n      <td>6</td>\n      <td>1</td>\n    </tr>\n    <tr>\n      <th>1</th>\n      <td>2</td>\n      <td>2</td>\n      <td>PAID</td>\n      <td>1500</td>\n      <td>30</td>\n      <td>2019-09-08</td>\n      <td>2019-10-07</td>\n      <td>33</td>\n      <td>Bachelors</td>\n      <td>1</td>\n      <td>6</td>\n      <td>1</td>\n    </tr>\n    <tr>\n      <th>2</th>\n      <td>3</td>\n      <td>3</td>\n      <td>PAID</td>\n      <td>1500</td>\n      <td>15</td>\n      <td>2019-09-08</td>\n      <td>2019-09-22</td>\n      <td>27</td>\n      <td>college</td>\n      <td>0</td>\n      <td>6</td>\n      <td>1</td>\n    </tr>\n  </tbody>\n</table>\n</div>",
                        "text/plain": "   user_id  un_named status  principal_amount  terms effective_date  \\\n0        0         0   PAID              1500     30     2019-09-08   \n1        2         2   PAID              1500     30     2019-09-08   \n2        3         3   PAID              1500     15     2019-09-08   \n\n    due_date  age           education  Gender  dayofweek  weekend  \n0 2019-10-07   47  Secondary or Below       0          6        1  \n1 2019-10-07   33           Bachelors       1          6        1  \n2 2019-09-22   27             college       0          6        1  "
                    },
                    "execution_count": 30,
                    "metadata": {},
                    "output_type": "execute_result"
                }
            ],
            "source": "df['weekend'] = df['dayofweek'].apply(lambda x: 1 if (x>3)  else 0)\ndf.head(3)"
        },
        {
            "cell_type": "code",
            "execution_count": 31,
            "metadata": {},
            "outputs": [
                {
                    "data": {
                        "text/html": "<div>\n<style scoped>\n    .dataframe tbody tr th:only-of-type {\n        vertical-align: middle;\n    }\n\n    .dataframe tbody tr th {\n        vertical-align: top;\n    }\n\n    .dataframe thead th {\n        text-align: right;\n    }\n</style>\n<table border=\"1\" class=\"dataframe\">\n  <thead>\n    <tr style=\"text-align: right;\">\n      <th></th>\n      <th>principal_amount</th>\n      <th>terms</th>\n      <th>age</th>\n      <th>Gender</th>\n      <th>weekend</th>\n      <th>Bachelors</th>\n      <th>Master or Above</th>\n      <th>Secondary or Below</th>\n      <th>college</th>\n    </tr>\n  </thead>\n  <tbody>\n    <tr>\n      <th>0</th>\n      <td>1500</td>\n      <td>30</td>\n      <td>47</td>\n      <td>0</td>\n      <td>1</td>\n      <td>0</td>\n      <td>0</td>\n      <td>1</td>\n      <td>0</td>\n    </tr>\n    <tr>\n      <th>1</th>\n      <td>1500</td>\n      <td>30</td>\n      <td>33</td>\n      <td>1</td>\n      <td>1</td>\n      <td>1</td>\n      <td>0</td>\n      <td>0</td>\n      <td>0</td>\n    </tr>\n    <tr>\n      <th>2</th>\n      <td>1500</td>\n      <td>15</td>\n      <td>27</td>\n      <td>0</td>\n      <td>1</td>\n      <td>0</td>\n      <td>0</td>\n      <td>0</td>\n      <td>1</td>\n    </tr>\n  </tbody>\n</table>\n</div>",
                        "text/plain": "   principal_amount  terms  age  Gender  weekend  Bachelors  Master or Above  \\\n0              1500     30   47       0        1          0                0   \n1              1500     30   33       1        1          1                0   \n2              1500     15   27       0        1          0                0   \n\n   Secondary or Below  college  \n0                   1        0  \n1                   0        0  \n2                   0        1  "
                    },
                    "execution_count": 31,
                    "metadata": {},
                    "output_type": "execute_result"
                }
            ],
            "source": "Feature = df[['principal_amount','terms','age','Gender','weekend']]\nFeature = pd.concat([Feature,pd.get_dummies(df['education'])], axis=1)\n\nFeature.head(3)"
        },
        {
            "cell_type": "code",
            "execution_count": 32,
            "metadata": {},
            "outputs": [
                {
                    "data": {
                        "text/html": "<div>\n<style scoped>\n    .dataframe tbody tr th:only-of-type {\n        vertical-align: middle;\n    }\n\n    .dataframe tbody tr th {\n        vertical-align: top;\n    }\n\n    .dataframe thead th {\n        text-align: right;\n    }\n</style>\n<table border=\"1\" class=\"dataframe\">\n  <thead>\n    <tr style=\"text-align: right;\">\n      <th></th>\n      <th>principal_amount</th>\n      <th>terms</th>\n      <th>age</th>\n      <th>Gender</th>\n      <th>weekend</th>\n      <th>Bachelors</th>\n      <th>Master or Above</th>\n      <th>Secondary or Below</th>\n      <th>college</th>\n    </tr>\n  </thead>\n  <tbody>\n    <tr>\n      <th>0</th>\n      <td>1500</td>\n      <td>30</td>\n      <td>47</td>\n      <td>0</td>\n      <td>1</td>\n      <td>0</td>\n      <td>0</td>\n      <td>1</td>\n      <td>0</td>\n    </tr>\n    <tr>\n      <th>1</th>\n      <td>1500</td>\n      <td>30</td>\n      <td>33</td>\n      <td>1</td>\n      <td>1</td>\n      <td>1</td>\n      <td>0</td>\n      <td>0</td>\n      <td>0</td>\n    </tr>\n    <tr>\n      <th>2</th>\n      <td>1500</td>\n      <td>15</td>\n      <td>27</td>\n      <td>0</td>\n      <td>1</td>\n      <td>0</td>\n      <td>0</td>\n      <td>0</td>\n      <td>1</td>\n    </tr>\n    <tr>\n      <th>3</th>\n      <td>1500</td>\n      <td>30</td>\n      <td>28</td>\n      <td>1</td>\n      <td>0</td>\n      <td>0</td>\n      <td>0</td>\n      <td>0</td>\n      <td>1</td>\n    </tr>\n    <tr>\n      <th>4</th>\n      <td>1500</td>\n      <td>30</td>\n      <td>29</td>\n      <td>0</td>\n      <td>0</td>\n      <td>0</td>\n      <td>0</td>\n      <td>0</td>\n      <td>1</td>\n    </tr>\n  </tbody>\n</table>\n</div>",
                        "text/plain": "   principal_amount  terms  age  Gender  weekend  Bachelors  Master or Above  \\\n0              1500     30   47       0        1          0                0   \n1              1500     30   33       1        1          1                0   \n2              1500     15   27       0        1          0                0   \n3              1500     30   28       1        0          0                0   \n4              1500     30   29       0        0          0                0   \n\n   Secondary or Below  college  \n0                   1        0  \n1                   0        0  \n2                   0        1  \n3                   0        1  \n4                   0        1  "
                    },
                    "execution_count": 32,
                    "metadata": {},
                    "output_type": "execute_result"
                }
            ],
            "source": "X = Feature\nX[0:5]"
        },
        {
            "cell_type": "code",
            "execution_count": 33,
            "metadata": {},
            "outputs": [
                {
                    "data": {
                        "text/plain": "array(['PAID', 'PAID', 'PAID', 'PAID', 'PAID'], dtype=object)"
                    },
                    "execution_count": 33,
                    "metadata": {},
                    "output_type": "execute_result"
                }
            ],
            "source": "y = df['status'].values\ny[0:5]"
        },
        {
            "cell_type": "code",
            "execution_count": 34,
            "metadata": {},
            "outputs": [
                {
                    "data": {
                        "text/plain": "array([[ 0.56442605,  0.92071769,  2.63424557, -0.42056004,  2.32538328,\n        -0.38170062, -0.07624929,  1.13639374, -0.86968108],\n       [ 0.56442605,  0.92071769,  0.33468069,  2.37778177,  2.32538328,\n         2.61985426, -0.07624929, -0.87997669, -0.86968108]])"
                    },
                    "execution_count": 34,
                    "metadata": {},
                    "output_type": "execute_result"
                }
            ],
            "source": "X_raw = X.values\nX= preprocessing.StandardScaler().fit(X).transform(X)\nX[0:2]"
        },
        {
            "cell_type": "code",
            "execution_count": 35,
            "metadata": {},
            "outputs": [
                {
                    "data": {
                        "text/plain": "array([[1500,   30,   47,    0,    1,    0,    0,    1,    0],\n       [1500,   30,   33,    1,    1,    1,    0,    0,    0]])"
                    },
                    "execution_count": 35,
                    "metadata": {},
                    "output_type": "execute_result"
                }
            ],
            "source": "X_raw[0:2]"
        },
        {
            "cell_type": "code",
            "execution_count": 69,
            "metadata": {},
            "outputs": [],
            "source": "def model_eval_plt(par, F1, Jac, model_name, model_par_name):\n    # plot model accuracy for different values of k (k: number of neighbors)\n    plt.figure(figsize=(10,5))\n    plt.plot(par, F1, 'b', linewidth = 2)\n    plt.plot(par, Jac, 'g', linewidth = 2)\n    plt.legend(['F1', 'Jaccard'], fontsize = 20)\n    plt.ylabel('Accuracy', fontsize = 20)\n    plt.xlabel('{}'.format(model_par_name),  fontsize = 20)\n    plt.title('{} evaluation'.format(model_name), fontsize = 25)\n#     plt.xticks(range(1, Ks), range(1, Ks), fontsize = 15)\n    plt.yticks( fontsize = 15)\n    plt.grid()\n    plt.show()\n    print('The highest Jaccard similarity index is {:3.3} for {}= {}'.format(max(Jac), \n                                                                             model_par_name,\n                                                                             par[np.argmax(Jac)]))\n    print('The highest F1 score is {:3.3} for {}= {}'.format(max(F1), \n                                                        model_par_name,\n                                                        par[np.argmax(F1)]))"
        },
        {
            "cell_type": "code",
            "execution_count": 70,
            "metadata": {},
            "outputs": [
                {
                    "ename": "ImportError",
                    "evalue": "cannot import name 'jaccard_similarity_score' from 'sklearn.metrics' (/opt/conda/envs/Python-3.7-main/lib/python3.7/site-packages/sklearn/metrics/__init__.py)",
                    "output_type": "error",
                    "traceback": [
                        "\u001b[0;31m---------------------------------------------------------------------------\u001b[0m",
                        "\u001b[0;31mImportError\u001b[0m                               Traceback (most recent call last)",
                        "\u001b[0;32m<ipython-input-70-8f040bcef082>\u001b[0m in \u001b[0;36m<module>\u001b[0;34m\u001b[0m\n\u001b[1;32m      1\u001b[0m \u001b[0;32mfrom\u001b[0m \u001b[0msklearn\u001b[0m\u001b[0;34m.\u001b[0m\u001b[0mneighbors\u001b[0m \u001b[0;32mimport\u001b[0m \u001b[0mKNeighborsClassifier\u001b[0m\u001b[0;34m\u001b[0m\u001b[0;34m\u001b[0m\u001b[0m\n\u001b[0;32m----> 2\u001b[0;31m \u001b[0;32mfrom\u001b[0m \u001b[0msklearn\u001b[0m\u001b[0;34m.\u001b[0m\u001b[0mmetrics\u001b[0m \u001b[0;32mimport\u001b[0m \u001b[0maccuracy_score\u001b[0m\u001b[0;34m,\u001b[0m \u001b[0mjaccard_similarity_score\u001b[0m\u001b[0;34m\u001b[0m\u001b[0;34m\u001b[0m\u001b[0m\n\u001b[0m\u001b[1;32m      3\u001b[0m \u001b[0;32mfrom\u001b[0m \u001b[0msklearn\u001b[0m\u001b[0;34m.\u001b[0m\u001b[0mmetrics\u001b[0m \u001b[0;32mimport\u001b[0m \u001b[0mf1_score\u001b[0m\u001b[0;34m,\u001b[0m \u001b[0mmatthews_corrcoef\u001b[0m\u001b[0;34m\u001b[0m\u001b[0;34m\u001b[0m\u001b[0m\n\u001b[1;32m      4\u001b[0m \u001b[0;32mfrom\u001b[0m \u001b[0msklearn\u001b[0m\u001b[0;34m.\u001b[0m\u001b[0mmodel_selection\u001b[0m \u001b[0;32mimport\u001b[0m \u001b[0mcross_val_score\u001b[0m\u001b[0;34m\u001b[0m\u001b[0;34m\u001b[0m\u001b[0m\n\u001b[1;32m      5\u001b[0m \u001b[0;32mfrom\u001b[0m \u001b[0msklearn\u001b[0m\u001b[0;34m.\u001b[0m\u001b[0mmodel_selection\u001b[0m \u001b[0;32mimport\u001b[0m \u001b[0mKFold\u001b[0m\u001b[0;34m\u001b[0m\u001b[0;34m\u001b[0m\u001b[0m\n",
                        "\u001b[0;31mImportError\u001b[0m: cannot import name 'jaccard_similarity_score' from 'sklearn.metrics' (/opt/conda/envs/Python-3.7-main/lib/python3.7/site-packages/sklearn/metrics/__init__.py)"
                    ]
                }
            ],
            "source": "from sklearn.neighbors import KNeighborsClassifier\nfrom sklearn.metrics import accuracy_score, jaccard_similarity_score\nfrom sklearn.metrics import f1_score, matthews_corrcoef\nfrom sklearn.model_selection import cross_val_score\nfrom sklearn.model_selection import KFold\nKs = 20 # number of neighbors for KNN method\nJac_vals = np.zeros((Ks-1))\nF1_vals = np.zeros((Ks-1))\n\nfor n in range(1, Ks):\n    # Build the model\n    knn = KNeighborsClassifier(n_neighbors=n)\n    # perform a k-fold cross-validation to estimate the model accuracy\n    folds = 10\n    kfold = KFold(folds, True, 1)\n    n2 = 0\n    Jac_kfold_vals = np.zeros((folds))\n    f1_kfold_vals = np.zeros((folds))\n    # enumerate splits\n    for train_index, test_index in kfold.split(X):\n        knn.fit(X[train_index], y[train_index])\n        yhat = knn.predict(X[test_index])\n        Jac_kfold_vals[n2] = jaccard_similarity_score(y[test_index], yhat)\n        f1_kfold_vals[n2] = f1_score(y[test_index], yhat,\n                                     labels = ['PAID'], average='micro')\n        n2+=1\n        \n    # compute the mean accuracy based on accuracy of k-folds \n    Jac_vals[n-1] = Jac_kfold_vals.mean()\n    F1_vals[n-1] = f1_kfold_vals.mean()\n\n# plot model evaluation and find the optimum parameter\nmodel_par_name = 'Number of neighbors (K)'\nmodel_name = 'KNN'\nmodel_eval_plt(list(range(1, Ks)), F1_vals, Jac_vals, model_name, model_par_name)"
        },
        {
            "cell_type": "code",
            "execution_count": 38,
            "metadata": {},
            "outputs": [
                {
                    "data": {
                        "text/plain": "array([0.5       , 0.45714286, 0.52857143, 0.48571429, 0.55714286,\n       0.51428571, 0.57142857, 0.54285714, 0.6       , 0.58571429,\n       0.6       ])"
                    },
                    "execution_count": 38,
                    "metadata": {},
                    "output_type": "execute_result"
                }
            ],
            "source": ""
        },
        {
            "cell_type": "code",
            "execution_count": 41,
            "metadata": {},
            "outputs": [
                {
                    "data": {
                        "image/png": "[encoded data removed]",
                        "text/plain": "<Figure size 432x288 with 1 Axes>"
                    },
                    "metadata": {
                        "needs_background": "light"
                    },
                    "output_type": "display_data"
                },
                {
                    "name": "stdout",
                    "output_type": "stream",
                    "text": "The best accuracy was with 0.6 with k= 9\n"
                }
            ],
            "source": "plt.plot(range(1,Ks),mean_acc)\nplt.fill_between(range(1,Ks),mean_acc - 1 * std_acc,mean_acc + 1 * std_acc, alpha=0.10)\nplt.legend(('Accuracy ', '+/- 3xstd'))\nplt.ylabel('Accuracy ')\nplt.xlabel('Number of Neighbors (K)')\nplt.tight_layout()\nplt.show()\n\nprint( \"The best accuracy was with\", mean_acc.max(), \"with k=\", mean_acc.argmax()+1) \n\nneigh = KNeighborsClassifier(n_neighbors=mean_acc.argmax()+1).fit(X_train, y_train)"
        },
        {
            "cell_type": "code",
            "execution_count": 67,
            "metadata": {},
            "outputs": [],
            "source": "\ndef model_eval_plt(par, F1, Jac, model_name, model_par_name):\n    # plot model accuracy for different values of k (k: number of neighbors)\n    plt.figure(figsize=(10,5))\n    plt.plot(par, F1, 'b', linewidth = 2)\n    plt.plot(par, Jac, 'g', linewidth = 2)\n    plt.legend(['F1', 'Jaccard'], fontsize = 20)\n    plt.ylabel('Accuracy', fontsize = 20)\n    plt.xlabel('{}'.format(model_par_name),  fontsize = 20)\n    plt.title('{} evaluation'.format(model_name), fontsize = 25)\n#     plt.xticks(range(1, Ks), range(1, Ks), fontsize = 15)\n    plt.yticks( fontsize = 15)\n    plt.grid()\n    plt.show()\n    print('The highest Jaccard similarity index is {:3.3} for {}= {}'.format(max(Jac), \n                                                                             model_par_name,\n                                                                             par[np.argmax(Jac)]))\n    print('The highest F1 score is {:3.3} for {}= {}'.format(max(F1), \n                                                        model_par_name,\n                                                        par[np.argmax(F1)]))"
        },
        {
            "cell_type": "code",
            "execution_count": 4,
            "metadata": {},
            "outputs": [
                {
                    "name": "stderr",
                    "output_type": "stream",
                    "text": "/opt/conda/envs/Python-3.7-main/lib/python3.7/site-packages/sklearn/utils/validation.py:71: FutureWarning: Pass shuffle=True, random_state=1 as keyword args. From version 0.25 passing these as positional arguments will result in an error\n  FutureWarning)\n"
                },
                {
                    "ename": "NameError",
                    "evalue": "name 'X' is not defined",
                    "output_type": "error",
                    "traceback": [
                        "\u001b[0;31m---------------------------------------------------------------------------\u001b[0m",
                        "\u001b[0;31mNameError\u001b[0m                                 Traceback (most recent call last)",
                        "\u001b[0;32m<ipython-input-4-4465c1506a38>\u001b[0m in \u001b[0;36m<module>\u001b[0;34m\u001b[0m\n\u001b[1;32m     18\u001b[0m     \u001b[0mf1_kfold_vals\u001b[0m \u001b[0;34m=\u001b[0m \u001b[0mnp\u001b[0m\u001b[0;34m.\u001b[0m\u001b[0mzeros\u001b[0m\u001b[0;34m(\u001b[0m\u001b[0;34m(\u001b[0m\u001b[0mfolds\u001b[0m\u001b[0;34m)\u001b[0m\u001b[0;34m)\u001b[0m\u001b[0;34m\u001b[0m\u001b[0;34m\u001b[0m\u001b[0m\n\u001b[1;32m     19\u001b[0m     \u001b[0;31m# enumerate splits\u001b[0m\u001b[0;34m\u001b[0m\u001b[0;34m\u001b[0m\u001b[0;34m\u001b[0m\u001b[0m\n\u001b[0;32m---> 20\u001b[0;31m     \u001b[0;32mfor\u001b[0m \u001b[0mtrain_index\u001b[0m\u001b[0;34m,\u001b[0m \u001b[0mtest_index\u001b[0m \u001b[0;32min\u001b[0m \u001b[0mkfold\u001b[0m\u001b[0;34m.\u001b[0m\u001b[0msplit\u001b[0m\u001b[0;34m(\u001b[0m\u001b[0mX\u001b[0m\u001b[0;34m)\u001b[0m\u001b[0;34m:\u001b[0m\u001b[0;34m\u001b[0m\u001b[0;34m\u001b[0m\u001b[0m\n\u001b[0m\u001b[1;32m     21\u001b[0m         \u001b[0mknn\u001b[0m\u001b[0;34m.\u001b[0m\u001b[0mfit\u001b[0m\u001b[0;34m(\u001b[0m\u001b[0mX\u001b[0m\u001b[0;34m[\u001b[0m\u001b[0mtrain_index\u001b[0m\u001b[0;34m]\u001b[0m\u001b[0;34m,\u001b[0m \u001b[0my\u001b[0m\u001b[0;34m[\u001b[0m\u001b[0mtrain_index\u001b[0m\u001b[0;34m]\u001b[0m\u001b[0;34m)\u001b[0m\u001b[0;34m\u001b[0m\u001b[0;34m\u001b[0m\u001b[0m\n\u001b[1;32m     22\u001b[0m         \u001b[0myhat\u001b[0m \u001b[0;34m=\u001b[0m \u001b[0mknn\u001b[0m\u001b[0;34m.\u001b[0m\u001b[0mpredict\u001b[0m\u001b[0;34m(\u001b[0m\u001b[0mX\u001b[0m\u001b[0;34m[\u001b[0m\u001b[0mtest_index\u001b[0m\u001b[0;34m]\u001b[0m\u001b[0;34m)\u001b[0m\u001b[0;34m\u001b[0m\u001b[0;34m\u001b[0m\u001b[0m\n",
                        "\u001b[0;31mNameError\u001b[0m: name 'X' is not defined"
                    ]
                }
            ],
            "source": "from sklearn.neighbors import KNeighborsClassifier\nfrom sklearn.metrics import accuracy_score, jaccard_score\nfrom sklearn.metrics import f1_score, matthews_corrcoef\nfrom sklearn.model_selection import cross_val_score\nfrom sklearn.model_selection import KFold\nKs = 20 # number of neighbors for KNN method\nJac_vals = np.zeros((Ks-1))\nF1_vals = np.zeros((Ks-1))\n\nfor n in range(1, Ks):\n    # Build the model\n    knn = KNeighborsClassifier(n_neighbors=n)\n    # perform a k-fold cross-validation to estimate the model accuracy\n    folds = 10\n    kfold = KFold(folds, True, 1)\n    n2 = 0\n    Jac_kfold_vals = np.zeros((folds))\n    f1_kfold_vals = np.zeros((folds))\n    # enumerate splits\n    for train_index, test_index in kfold.split(X):\n        knn.fit(X[train_index], y[train_index])\n        yhat = knn.predict(X[test_index])\n        Jac_kfold_vals[n2] = jaccard_score(y[test_index], yhat)\n        f1_kfold_vals[n2] = f1_score(y[test_index], yhat,\n                                     labels = ['PAID'], average='micro')\n        n2+=1\n        \n    # compute the mean accuracy based on accuracy of k-folds \n    Jac_vals[n-1] = Jac_kfold_vals.mean()\n    F1_vals[n-1] = f1_kfold_vals.mean()\n\n# plot model evaluation and find the optimum parameter\nmodel_par_name = 'Number of neighbors (K)'\nmodel_name = 'KNN'\nmodel_eval_plt(list(range(1, Ks)), F1_vals, Jac_vals, model_name, model_par_name)"
        },
        {
            "cell_type": "code",
            "execution_count": 5,
            "metadata": {},
            "outputs": [
                {
                    "ename": "NameError",
                    "evalue": "name 'X' is not defined",
                    "output_type": "error",
                    "traceback": [
                        "\u001b[0;31m---------------------------------------------------------------------------\u001b[0m",
                        "\u001b[0;31mNameError\u001b[0m                                 Traceback (most recent call last)",
                        "\u001b[0;32m<ipython-input-5-a158eabf932f>\u001b[0m in \u001b[0;36m<module>\u001b[0;34m\u001b[0m\n\u001b[1;32m     13\u001b[0m     \u001b[0mJac_kfold_vals\u001b[0m \u001b[0;34m=\u001b[0m \u001b[0mnp\u001b[0m\u001b[0;34m.\u001b[0m\u001b[0mzeros\u001b[0m\u001b[0;34m(\u001b[0m\u001b[0;34m(\u001b[0m\u001b[0mfolds\u001b[0m\u001b[0;34m)\u001b[0m\u001b[0;34m)\u001b[0m\u001b[0;34m\u001b[0m\u001b[0;34m\u001b[0m\u001b[0m\n\u001b[1;32m     14\u001b[0m     \u001b[0;31m# enumerate splits\u001b[0m\u001b[0;34m\u001b[0m\u001b[0;34m\u001b[0m\u001b[0;34m\u001b[0m\u001b[0m\n\u001b[0;32m---> 15\u001b[0;31m     \u001b[0;32mfor\u001b[0m \u001b[0mtrain_index\u001b[0m\u001b[0;34m,\u001b[0m \u001b[0mtest_index\u001b[0m \u001b[0;32min\u001b[0m \u001b[0mkfold\u001b[0m\u001b[0;34m.\u001b[0m\u001b[0msplit\u001b[0m\u001b[0;34m(\u001b[0m\u001b[0mX\u001b[0m\u001b[0;34m)\u001b[0m\u001b[0;34m:\u001b[0m\u001b[0;34m\u001b[0m\u001b[0;34m\u001b[0m\u001b[0m\n\u001b[0m\u001b[1;32m     16\u001b[0m         \u001b[0mloanTree\u001b[0m\u001b[0;34m.\u001b[0m\u001b[0mfit\u001b[0m\u001b[0;34m(\u001b[0m\u001b[0mX_raw\u001b[0m\u001b[0;34m[\u001b[0m\u001b[0mtrain_index\u001b[0m\u001b[0;34m]\u001b[0m\u001b[0;34m,\u001b[0m \u001b[0my\u001b[0m\u001b[0;34m[\u001b[0m\u001b[0mtrain_index\u001b[0m\u001b[0;34m]\u001b[0m\u001b[0;34m)\u001b[0m\u001b[0;34m\u001b[0m\u001b[0;34m\u001b[0m\u001b[0m\n\u001b[1;32m     17\u001b[0m         \u001b[0myhat\u001b[0m \u001b[0;34m=\u001b[0m \u001b[0mloanTree\u001b[0m\u001b[0;34m.\u001b[0m\u001b[0mpredict\u001b[0m\u001b[0;34m(\u001b[0m\u001b[0mX_raw\u001b[0m\u001b[0;34m[\u001b[0m\u001b[0mtest_index\u001b[0m\u001b[0;34m]\u001b[0m\u001b[0;34m)\u001b[0m\u001b[0;34m\u001b[0m\u001b[0;34m\u001b[0m\u001b[0m\n",
                        "\u001b[0;31mNameError\u001b[0m: name 'X' is not defined"
                    ]
                }
            ],
            "source": "from sklearn.tree import DecisionTreeClassifier\nmaxDepths = 20\nf1_vals = np.zeros((maxDepths-1))\nJac_vals = np.zeros((maxDepths-1))\nfor n in range(1, maxDepths):\n    # Build the model\n    loanTree = DecisionTreeClassifier(criterion=\"entropy\", max_depth = n)\n    # perform a k-fold cross-validation to estimate the model accuracy\n    folds = 10\n    kfold = KFold(folds, True, 1)\n    n2 = 0\n    f1_kfold_vals = np.zeros((folds))\n    Jac_kfold_vals = np.zeros((folds))\n    # enumerate splits\n    for train_index, test_index in kfold.split(X):\n        loanTree.fit(X_raw[train_index], y[train_index])\n        yhat = loanTree.predict(X_raw[test_index])\n        f1_kfold_vals[n2] = f1_score(y[test_index], yhat,\n                                     labels = ['PAIDOFF'], average='micro')\n        Jac_kfold_vals[n2] = jaccard_score(y[test_index], yhat)\n        n2+=1\n        \n    # compute the mean accuracy based on accuracy of k-folds \n    f1_vals[n-1] = f1_kfold_vals.mean()\n    Jac_vals[n-1] = Jac_kfold_vals.mean()\n\n\n# plot model evaluation and find the optimum parameter\nmodel_par_name = 'Max depth of decision tree'\nmodel_name = 'Decision Tree'\nmodel_eval_plt(list(range(1, maxDepths)), f1_vals, Jac_vals, model_name, model_par_name)\n"
        },
        {
            "cell_type": "code",
            "execution_count": null,
            "metadata": {},
            "outputs": [],
            "source": ""
        }
    ],
    "metadata": {
        "kernelspec": {
            "display_name": "Python 3.7",
            "language": "python",
            "name": "python3"
        },
        "language_info": {
            "codemirror_mode": {
                "name": "ipython",
                "version": 3
            },
            "file_extension": ".py",
            "mimetype": "text/x-python",
            "name": "python",
            "nbconvert_exporter": "python",
            "pygments_lexer": "ipython3",
            "version": "3.7.9"
        }
    },
    "nbformat": 4,
    "nbformat_minor": 1
}